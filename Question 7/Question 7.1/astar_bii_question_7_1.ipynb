{
 "cells": [
  {
   "cell_type": "markdown",
   "metadata": {},
   "source": [
    "# A*Star BII programming interview"
   ]
  },
  {
   "cell_type": "markdown",
   "metadata": {},
   "source": [
    "### Question 7.1"
   ]
  },
  {
   "cell_type": "code",
   "execution_count": 15,
   "metadata": {},
   "outputs": [],
   "source": [
    "class question_7_1:\n",
    "    def run(self, input_file, output_file, grid_size, coord_to_index=True):\n",
    "        lines = self.read_input(input_file)\n",
    "        if coord_to_index:\n",
    "            coordinates = self.parse_coordinates(lines)\n",
    "            indices = self.coord_to_index(coordinates, grid_size)\n",
    "            self.write_indices(indices, output_file)\n",
    "        else:\n",
    "            indices = self.parse_indices(lines)\n",
    "            coordinates = self.index_to_coord(indices, grid_size)\n",
    "            self.write_coordinates(coordinates, output_file)\n",
    "    \n",
    "    def read_input(self, input_file):\n",
    "        with open(input_file, 'r') as rf:\n",
    "            lines = rf.readlines()\n",
    "        return lines\n",
    "    \n",
    "    def parse_coordinates(self, lines):\n",
    "        coordinates = []\n",
    "        for i in range(1, len(lines)):\n",
    "            x_1, x_2 = lines[i].replace('\\n', '').replace('\\t', ' ').split(' ')\n",
    "            coordinates.append((int(x_1), int(x_2)))\n",
    "        return coordinates\n",
    "    \n",
    "    def parse_indices(self, lines):\n",
    "        indices = []\n",
    "        for i in range(1, len(lines)):\n",
    "            I = int(lines[i].replace('\\n', ''))\n",
    "            indices.append(I)\n",
    "        return indices\n",
    "    \n",
    "    def coord_to_index(self, coordinates, grid_size):\n",
    "        L_1, L_2 = grid_size\n",
    "        indices = []\n",
    "        for x_1, x_2 in coordinates:\n",
    "            I = x_2*L_1+x_1\n",
    "            indices.append(I)\n",
    "        return indices\n",
    "        \n",
    "    def index_to_coord(self, indices, grid_size):\n",
    "        L_1, L_2 = grid_size\n",
    "        coordinates = []\n",
    "        for I in indices:\n",
    "            coordinate = (I%L_1, I//L_1)\n",
    "            coordinates.append(coordinate)\n",
    "        return coordinates\n",
    "    \n",
    "    def write_indices(self, indices, output_file):\n",
    "        output_string = 'index\\n'\n",
    "        for index in indices:\n",
    "            output_string += str(index) + '\\n'\n",
    "        with open(output_file, 'w') as wf:\n",
    "            wf.write(output_string[:-1])\n",
    "    \n",
    "    def write_coordinates(self, coordinates, output_file):\n",
    "        output_string = 'x1 x2\\n'\n",
    "        for x_1, x_2 in coordinates:\n",
    "            output_string += str(x_1) + ' ' + str(x_2) + '\\n'\n",
    "        with open(output_file, 'w') as wf:\n",
    "            wf.write(output_string[:-1])"
   ]
  },
  {
   "cell_type": "code",
   "execution_count": 16,
   "metadata": {},
   "outputs": [],
   "source": [
    "qn = question_7_1()\n",
    "qn.run('input_index_7_1.txt', 'output_coordinates_7_1.txt', (50, 57), coord_to_index=False)"
   ]
  }
 ],
 "metadata": {
  "kernelspec": {
   "display_name": "Python 3",
   "language": "python",
   "name": "python3"
  },
  "language_info": {
   "codemirror_mode": {
    "name": "ipython",
    "version": 3
   },
   "file_extension": ".py",
   "mimetype": "text/x-python",
   "name": "python",
   "nbconvert_exporter": "python",
   "pygments_lexer": "ipython3",
   "version": "3.7.3"
  }
 },
 "nbformat": 4,
 "nbformat_minor": 2
}

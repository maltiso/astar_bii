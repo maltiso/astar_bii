{
 "cells": [
  {
   "cell_type": "markdown",
   "metadata": {},
   "source": [
    "# A*Star BII programming interview"
   ]
  },
  {
   "cell_type": "markdown",
   "metadata": {},
   "source": [
    "### Question 7.2"
   ]
  },
  {
   "cell_type": "code",
   "execution_count": 30,
   "metadata": {},
   "outputs": [],
   "source": [
    "class question_7_2:\n",
    "    def run(self, input_file, output_file, grid_size, coord_to_index=True):\n",
    "        lines = self.read_input(input_file)\n",
    "        if coord_to_index:\n",
    "            coordinates = self.parse_coordinates(lines)\n",
    "            indices = self.coord_to_index(coordinates, grid_size)\n",
    "            self.write_indices(indices, output_file)\n",
    "        else:\n",
    "            indices = self.parse_indices(lines)\n",
    "            coordinates = self.index_to_coord(indices, grid_size)\n",
    "            self.write_coordinates(coordinates, output_file)\n",
    "    \n",
    "    def read_input(self, input_file):\n",
    "        with open(input_file, 'r') as rf:\n",
    "            lines = rf.readlines()\n",
    "        return lines\n",
    "    \n",
    "    def parse_coordinates(self, lines):\n",
    "        coordinates = []\n",
    "        for i in range(1, len(lines)):\n",
    "            coordinate = lines[i].replace('\\n', '').replace('\\t', ' ').split(' ')\n",
    "            coordinate = [int(x) for x in coordinate]\n",
    "            coordinates.append(coordinate)\n",
    "        return coordinates\n",
    "    \n",
    "    def parse_indices(self, lines):\n",
    "        indices = []\n",
    "        for i in range(1, len(lines)):\n",
    "            I = int(lines[i].replace('\\n', ''))\n",
    "            indices.append(I)\n",
    "        return indices\n",
    "    \n",
    "    def coord_to_index(self, coordinates, grid_size):\n",
    "        indices = []\n",
    "        Ls = []\n",
    "        L_prod = 1\n",
    "        for L_i in grid_size:\n",
    "            Ls.append(L_prod)\n",
    "            L_prod *= L_i\n",
    "        for coordinate in coordinates:\n",
    "            I = 0\n",
    "            for i in range(len(coordinate)):\n",
    "                I += Ls[i]*coordinate[i]\n",
    "            indices.append(I)\n",
    "        return indices\n",
    "        \n",
    "    def index_to_coord(self, indices, grid_size):\n",
    "        coordinates = []\n",
    "        Ls = []\n",
    "        L_prod = 1\n",
    "        for L_i in grid_size:\n",
    "            Ls.append(L_prod)\n",
    "            L_prod *= L_i\n",
    "        for I in indices:\n",
    "            g_sum = 0\n",
    "            coordinate = []\n",
    "            for i in range(len(Ls)-1):\n",
    "                j = i+1\n",
    "                g_j = (I%Ls[j]-g_sum)/Ls[i]\n",
    "                g_sum += g_j*Ls[i]\n",
    "                coordinate.append(int(g_j))\n",
    "            g_d = (I-g_sum)/Ls[-1]\n",
    "            coordinate.append(int(g_d))\n",
    "            coordinates.append(coordinate)\n",
    "        return coordinates\n",
    "    \n",
    "    def write_indices(self, indices, output_file):\n",
    "        output_string = 'index\\n'\n",
    "        for index in indices:\n",
    "            output_string += str(index) + '\\n'\n",
    "        with open(output_file, 'w') as wf:\n",
    "            wf.write(output_string[:-1])\n",
    "    \n",
    "    def write_coordinates(self, coordinates, output_file):\n",
    "        output_string = ''\n",
    "        for i in range(len(coordinates[0])):\n",
    "            output_string += 'x' + str(i+1) + ' '\n",
    "        output_string = output_string[:-1] + '\\n'\n",
    "        for coordinate in coordinates:\n",
    "            for x in coordinate:\n",
    "                output_string += str(x) + ' '\n",
    "            output_string = output_string[:-1] + '\\n'\n",
    "        with open(output_file, 'w') as wf:\n",
    "            wf.write(output_string[:-1])"
   ]
  },
  {
   "cell_type": "code",
   "execution_count": 31,
   "metadata": {},
   "outputs": [],
   "source": [
    "qn = question_7_2()\n",
    "qn.run('input_index_7_2.txt', 'output_coordinates_7_2.txt', (4, 8, 5, 9, 6, 7), coord_to_index=False)"
   ]
  }
 ],
 "metadata": {
  "kernelspec": {
   "display_name": "Python 3",
   "language": "python",
   "name": "python3"
  },
  "language_info": {
   "codemirror_mode": {
    "name": "ipython",
    "version": 3
   },
   "file_extension": ".py",
   "mimetype": "text/x-python",
   "name": "python",
   "nbconvert_exporter": "python",
   "pygments_lexer": "ipython3",
   "version": "3.7.3"
  }
 },
 "nbformat": 4,
 "nbformat_minor": 2
}

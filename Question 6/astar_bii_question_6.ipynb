{
 "cells": [
  {
   "cell_type": "markdown",
   "metadata": {},
   "source": [
    "# A*Star BII programming interview"
   ]
  },
  {
   "cell_type": "markdown",
   "metadata": {},
   "source": [
    "### Question 6"
   ]
  },
  {
   "cell_type": "code",
   "execution_count": 3,
   "metadata": {},
   "outputs": [],
   "source": [
    "from shapely import geometry\n",
    "import matplotlib.pyplot as plt"
   ]
  },
  {
   "cell_type": "code",
   "execution_count": 13,
   "metadata": {},
   "outputs": [],
   "source": [
    "class question_6:\n",
    "    def run(self, polygon_file, input_file, output_file, plot=False):\n",
    "        polygon, line_string = self.create_polygon(polygon_file)\n",
    "        points = self.read_input(input_file)\n",
    "        point_list = self.parse_points(points)\n",
    "        in_list = []\n",
    "        for point in point_list:\n",
    "            point_obj = geometry.Point(point)\n",
    "            in_list.append(polygon.contains(point_obj) or line_string.contains(point_obj))\n",
    "        if plot:\n",
    "            self.plot_polygon(polygon, point_list, in_list)\n",
    "        self.write_output(point_list, in_list, output_file)\n",
    "    \n",
    "    def create_polygon(self, polygon_file):\n",
    "        lines = self.read_input(polygon_file)\n",
    "        points = self.parse_points(lines)\n",
    "        polygon = geometry.Polygon(points)\n",
    "        line_string = geometry.LineString(points)\n",
    "        return polygon, line_string\n",
    "    \n",
    "    def read_input(self, input_file):\n",
    "        with open(input_file, 'r') as rf:\n",
    "            lines = rf.readlines()\n",
    "        return lines\n",
    "    \n",
    "    def parse_points(self, lines):\n",
    "        points = []\n",
    "        for line in lines:\n",
    "            line = line.replace('\\n', '').replace('\\t', ' ')\n",
    "            if line:\n",
    "                x, y = line.split(' ')\n",
    "                points.append((int(x), int(y)))\n",
    "        return points\n",
    "    \n",
    "    def plot_polygon(self, polygon, points, in_list):\n",
    "        in_points = []\n",
    "        out_points = []\n",
    "        for i, point in enumerate(points):\n",
    "            if in_list[i]:\n",
    "                in_points.append(point)\n",
    "            else:\n",
    "                out_points.append(point)\n",
    "        x, y = polygon.exterior.xy\n",
    "        plt.plot(x,y)\n",
    "        plt.scatter(*zip(*in_points), c='b', marker='o')\n",
    "        plt.scatter(*zip(*out_points), c='r', marker='x')\n",
    "    \n",
    "    def write_output(self, point_list, in_list, output_file):\n",
    "        output_string = ''\n",
    "        for i, point in enumerate(point_list):\n",
    "            if in_list[i]:\n",
    "                third_column = 'inside'\n",
    "            else:\n",
    "                third_column = 'outside'\n",
    "            output_string += str(point[0]) + ' ' + str(point[1]) + ' ' + third_column + '\\n'\n",
    "        with open(output_file, 'w') as wf:\n",
    "            wf.write(output_string[:-1])"
   ]
  },
  {
   "cell_type": "code",
   "execution_count": 14,
   "metadata": {},
   "outputs": [
    {
     "data": {
      "image/png": "[encoded data removed]",
      "text/plain": [
       "<Figure size 432x288 with 1 Axes>"
      ]
     },
     "metadata": {
      "needs_background": "light"
     },
     "output_type": "display_data"
    }
   ],
   "source": [
    "qn = question_6()\n",
    "qn.run('input_question_6_polygon', 'input_question_6_points', 'output_question_6', plot=True)"
   ]
  }
 ],
 "metadata": {
  "kernelspec": {
   "display_name": "Python 3",
   "language": "python",
   "name": "python3"
  },
  "language_info": {
   "codemirror_mode": {
    "name": "ipython",
    "version": 3
   },
   "file_extension": ".py",
   "mimetype": "text/x-python",
   "name": "python",
   "nbconvert_exporter": "python",
   "pygments_lexer": "ipython3",
   "version": "3.7.3"
  }
 },
 "nbformat": 4,
 "nbformat_minor": 2
}

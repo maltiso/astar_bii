{
 "cells": [
  {
   "cell_type": "markdown",
   "metadata": {},
   "source": [
    "# A*Star BII programming interview"
   ]
  },
  {
   "cell_type": "markdown",
   "metadata": {},
   "source": [
    "### Question 4"
   ]
  },
  {
   "cell_type": "code",
   "execution_count": 62,
   "metadata": {},
   "outputs": [],
   "source": [
    "import numpy as np\n",
    "import networkx as nx"
   ]
  },
  {
   "cell_type": "code",
   "execution_count": 88,
   "metadata": {},
   "outputs": [],
   "source": [
    "class question_4:\n",
    "    def __init__(self):\n",
    "        n = 0\n",
    "        m = 0\n",
    "        eight_connected = False\n",
    "    \n",
    "    def run(self, input_file, output_file, eight_connected):\n",
    "        self.eight_connected = eight_connected\n",
    "        lines = self.read_input(input_file)\n",
    "        image_graph = self.create_graph(lines)\n",
    "        connected_components = self.obtain_connected_components(image_graph)\n",
    "        self.write_output(connected_components, output_file)\n",
    "    \n",
    "    def read_input(self, input_file):\n",
    "        with open(input_file, 'r') as rf:\n",
    "            lines = rf.readlines()\n",
    "        return lines\n",
    "    \n",
    "    def create_graph(self, lines):\n",
    "        image_graph = nx.Graph()\n",
    "        pixel_edges = self.create_edges(lines)\n",
    "        image_graph.add_edges_from(pixel_edges)\n",
    "        return image_graph\n",
    "        \n",
    "    def create_edges(self, lines):\n",
    "        pixel_edges = []\n",
    "        prev_row = None\n",
    "        self.n = len(lines)\n",
    "        self.m = len(self.line_to_list(lines[0]))\n",
    "        for i in range(len(lines)):\n",
    "            cur_row = self.line_to_list(lines[i])\n",
    "            for j in range(1, len(cur_row)):\n",
    "                cur_pixel = cur_row[j]\n",
    "                if cur_pixel:\n",
    "                    pixel_edges.append(((i, j), (i, j)))\n",
    "                left_pixel = cur_row[j-1]\n",
    "                if prev_row:\n",
    "                    top_pixel = prev_row[j]\n",
    "                else:\n",
    "                    top_pixel = None\n",
    "                if cur_pixel:\n",
    "                    if left_pixel:\n",
    "                        pixel_edges.append(((i, j-1), (i, j)))\n",
    "                    if top_pixel:\n",
    "                        pixel_edges.append(((i-1, j), (i, j)))\n",
    "                    if self.eight_connected and prev_row:\n",
    "                        top_left_pixel = prev_row[j-1]\n",
    "                        if top_left_pixel:\n",
    "                            pixel_edges.append(((i-1, j-1), (i, j)))\n",
    "                        if j+1 < len(cur_row):\n",
    "                            top_right_pixel = prev_row[j+1]\n",
    "                            if top_right_pixel:\n",
    "                                pixel_edges.append(((i-1, j+1), (i, j)))\n",
    "            prev_row = cur_row\n",
    "        return pixel_edges\n",
    "    \n",
    "    def line_to_list(self, line):\n",
    "        row_list = line.replace('\\n', '').replace('\\t', ' ').split(' ')\n",
    "        row_list = [int(pixel) for pixel in row_list]\n",
    "        return row_list\n",
    "    \n",
    "    def obtain_connected_components(self, image_graph):\n",
    "        return nx.connected_components(image_graph)\n",
    "    \n",
    "    def write_output(self, connected_components, output_file):\n",
    "        output_string = ''\n",
    "        output_matrix = np.zeros((self.n, self.m)).astype('int')\n",
    "        i = 1\n",
    "        for connected_component in connected_components:\n",
    "            for vertex in connected_component:\n",
    "                output_matrix[vertex] = i\n",
    "            i += 1\n",
    "        for row in output_matrix:\n",
    "            for component in row:\n",
    "                if i > 10 and component < 10:\n",
    "                    component_string = '0'+str(component)\n",
    "                else:\n",
    "                    component_string = str(component)\n",
    "                output_string += component_string + ' '\n",
    "            output_string = output_string[:-1] + '\\n'\n",
    "        with open(output_file, 'w') as wf:\n",
    "            wf.write(output_string)"
   ]
  },
  {
   "cell_type": "code",
   "execution_count": 89,
   "metadata": {},
   "outputs": [],
   "source": [
    "qn = question_4()\n",
    "qn.run('input_question_4', 'output_question_4', eight_connected=True)"
   ]
  },
  {
   "cell_type": "markdown",
   "metadata": {},
   "source": [
    "Finding connected components is a classic problem solved using graph data structures. We will use the graph capabilities of the package networkx to find the connected components. Most of the code written is just to convert from input string to graph and back to output string.\n",
    "\n",
    "Networkx finds connected components through repeated breadth-first searches."
   ]
  }
 ],
 "metadata": {
  "kernelspec": {
   "display_name": "Python 3",
   "language": "python",
   "name": "python3"
  },
  "language_info": {
   "codemirror_mode": {
    "name": "ipython",
    "version": 3
   },
   "file_extension": ".py",
   "mimetype": "text/x-python",
   "name": "python",
   "nbconvert_exporter": "python",
   "pygments_lexer": "ipython3",
   "version": "3.7.3"
  }
 },
 "nbformat": 4,
 "nbformat_minor": 2
}

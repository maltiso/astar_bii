{
 "cells": [
  {
   "cell_type": "markdown",
   "metadata": {},
   "source": [
    "# A*Star BII programming interview"
   ]
  },
  {
   "cell_type": "markdown",
   "metadata": {},
   "source": [
    "### Question 1"
   ]
  },
  {
   "cell_type": "code",
   "execution_count": 6,
   "metadata": {},
   "outputs": [],
   "source": [
    "class question_1:\n",
    "    def run(self, input_file, output_file):\n",
    "        lines = self.read_input(input_file)\n",
    "        output_string = self.generate_all_outputs(lines)\n",
    "        self.write_output(output_string, output_file)\n",
    "    \n",
    "    def read_input(self, input_file):\n",
    "        with open(input_file, 'r') as rf:\n",
    "            lines = rf.readlines()\n",
    "        return lines\n",
    "    \n",
    "    def generate_all_outputs(self, lines):\n",
    "        output_string = ''\n",
    "        for line in lines:\n",
    "            line = line.replace('\\n', '')\n",
    "            if len(line):\n",
    "                output_string += self.generate_one_output(line)\n",
    "            output_string += '\\n'\n",
    "        return output_string\n",
    "    \n",
    "    def generate_one_output(self, line):\n",
    "        m, n, sum_num = self.parse_inputs(line)\n",
    "        walker = self.grid_walker(m, n, sum_num)\n",
    "        if not walker.check_input_validity():\n",
    "            return ''\n",
    "        history = ''\n",
    "        while not walker.at_end():\n",
    "            operation = walker.move()\n",
    "            history += operation\n",
    "        return history\n",
    "    \n",
    "    def parse_inputs(self, line):\n",
    "        m, n, sum_num = line.split(' ')\n",
    "        return int(m), int(n), int(sum_num)\n",
    "    \n",
    "    def write_output(self, output_string, output_file):\n",
    "        with open(output_file, 'w') as wf:\n",
    "            wf.write(output_string)\n",
    "    \n",
    "    class grid_walker:\n",
    "        def __init__(self, m, n, sum_num):\n",
    "            self.x = 1\n",
    "            self.y = 1\n",
    "            self.cum_sum = 1\n",
    "            self.n = n\n",
    "            self.m = m\n",
    "            self.sum_num = sum_num\n",
    "        \n",
    "        def compute_minimum(self, x, y):\n",
    "            return y*(self.n-x) + sum(range(y, self.m+1))\n",
    "\n",
    "        def compute_maximum(self, x, y):\n",
    "            return self.n*(self.n-x) + sum(range(y, self.m+1))\n",
    "        \n",
    "        def check_input_validity(self):\n",
    "            min_sum = self.compute_minimum(self.x, self.y)\n",
    "            max_sum = self.compute_maximum(self.x, self.y)\n",
    "            is_valid = self.sum_num >= min_sum and self.sum_num <= max_sum\n",
    "            if not is_valid:\n",
    "                print('sum:', self.sum_num, 'is invalid')\n",
    "                print('min:', min_sum)\n",
    "                print('max:', max_sum)\n",
    "                if self.sum_num > max_sum:\n",
    "                    print('Sum exceeds maximum sum possible using this grid!\\nTry a value within [', \n",
    "                          min_sum, ',', max_sum, ']', sep='')\n",
    "                else:\n",
    "                    print('Sum is too small; unable to reach the end of this grid!\\nTry a value within [', \n",
    "                          min_sum, ',', max_sum, ']', sep='')\n",
    "            return is_valid\n",
    "        \n",
    "        def update_state(self, operation):\n",
    "            if operation == 'R':\n",
    "                self.x += 1\n",
    "            elif operation == 'D':\n",
    "                self.y += 1\n",
    "            self.cum_sum += self.y\n",
    "        \n",
    "        def at_right_edge(self):\n",
    "            return self.x == self.n\n",
    "        \n",
    "        def at_bottom_edge(self):\n",
    "            return self.y == self.m\n",
    "        \n",
    "        def at_end(self):\n",
    "            return self.at_right_edge() and self.at_bottom_edge()\n",
    "        \n",
    "        def down_is_valid(self):\n",
    "            return (self.compute_minimum(self.x, self.y+1) + self.cum_sum) <= self.sum_num and \\\n",
    "                   not self.at_bottom_edge()\n",
    "        \n",
    "        def move(self):\n",
    "            if self.down_is_valid():\n",
    "                operation = 'D'\n",
    "            else:\n",
    "                operation = 'R'\n",
    "            self.update_state(operation)\n",
    "            return operation"
   ]
  },
  {
   "cell_type": "code",
   "execution_count": 8,
   "metadata": {},
   "outputs": [
    {
     "name": "stdout",
     "output_type": "stream",
     "text": [
      "sum: 87127231192 is invalid\n",
      "min: 5000139999\n",
      "max: 13099960000\n",
      "Sum exceeds maximum sum possible using this grid!\n",
      "Try a value within [5000139999,13099960000]\n"
     ]
    }
   ],
   "source": [
    "qn = question_1()\n",
    "qn.run('input_question_1', 'output_question_1')"
   ]
  },
  {
   "cell_type": "markdown",
   "metadata": {},
   "source": [
    "A grid with m rows and n columns has a max sum of $(n-1)*m+\\frac{m}{2}*(m+1)$.\n",
    "\n",
    "In this case, the max sum is $(100,000-1)*90,000+\\frac{90,000}{2}*(90,000+1)=13,049,955,000$."
   ]
  }
 ],
 "metadata": {
  "kernelspec": {
   "display_name": "Python 3",
   "language": "python",
   "name": "python3"
  },
  "language_info": {
   "codemirror_mode": {
    "name": "ipython",
    "version": 3
   },
   "file_extension": ".py",
   "mimetype": "text/x-python",
   "name": "python",
   "nbconvert_exporter": "python",
   "pygments_lexer": "ipython3",
   "version": "3.7.3"
  }
 },
 "nbformat": 4,
 "nbformat_minor": 2
}

{
 "cells": [
  {
   "cell_type": "markdown",
   "metadata": {},
   "source": [
    "# A*Star BII programming interview"
   ]
  },
  {
   "cell_type": "markdown",
   "metadata": {},
   "source": [
    "### Question 5"
   ]
  },
  {
   "cell_type": "code",
   "execution_count": 62,
   "metadata": {},
   "outputs": [],
   "source": []
  },
  {
   "cell_type": "code",
   "execution_count": 88,
   "metadata": {},
   "outputs": [],
   "source": [
    "class question_5:\n",
    "    def run(self, input_file, output_file, eight_connected):\n",
    "        self.eight_connected = eight_connected\n",
    "        lines = self.read_input(input_file)\n",
    "        image_graph = self.create_graph(lines)\n",
    "        connected_components = self.obtain_connected_components(image_graph)\n",
    "        self.write_output(connected_components, output_file)\n",
    "    \n",
    "    def read_input(self, input_file):\n",
    "        with open(input_file, 'r') as rf:\n",
    "            lines = rf.readlines()\n",
    "        return lines\n",
    "    \n",
    "    def write_output(self, connected_components, output_file):\n",
    "        output_string = ''\n",
    "        output_matrix = np.zeros((self.n, self.m)).astype('int')\n",
    "        i = 1\n",
    "        for connected_component in connected_components:\n",
    "            for vertex in connected_component:\n",
    "                output_matrix[vertex] = i\n",
    "            i += 1\n",
    "        for row in output_matrix:\n",
    "            for component in row:\n",
    "                if i > 10 and component < 10:\n",
    "                    component_string = '0'+str(component)\n",
    "                else:\n",
    "                    component_string = str(component)\n",
    "                output_string += component_string + ' '\n",
    "            output_string = output_string[:-1] + '\\n'\n",
    "        with open(output_file, 'w') as wf:\n",
    "            wf.write(output_string)"
   ]
  },
  {
   "cell_type": "code",
   "execution_count": 89,
   "metadata": {},
   "outputs": [],
   "source": [
    "qn = question_5()\n",
    "qn.run('input_question_5', 'output_question_5')"
   ]
  },
  {
   "cell_type": "markdown",
   "metadata": {},
   "source": []
  }
 ],
 "metadata": {
  "kernelspec": {
   "display_name": "Python 3",
   "language": "python",
   "name": "python3"
  },
  "language_info": {
   "codemirror_mode": {
    "name": "ipython",
    "version": 3
   },
   "file_extension": ".py",
   "mimetype": "text/x-python",
   "name": "python",
   "nbconvert_exporter": "python",
   "pygments_lexer": "ipython3",
   "version": "3.7.3"
  }
 },
 "nbformat": 4,
 "nbformat_minor": 2
}
